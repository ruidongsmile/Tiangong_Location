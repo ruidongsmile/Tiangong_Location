{
 "cells": [
  {
   "cell_type": "code",
   "execution_count": 1,
   "id": "ae8eeef3",
   "metadata": {},
   "outputs": [],
   "source": [
    "import numpy as np\n",
    "from skyfield.api import load, wgs84\n",
    "import plotly.express as px\n",
    "import plotly.graph_objects as go\n",
    "import time"
   ]
  },
  {
   "cell_type": "code",
   "execution_count": 2,
   "id": "2d7f012e",
   "metadata": {},
   "outputs": [
    {
     "name": "stderr",
     "output_type": "stream",
     "text": [
      "\r",
      "[#################################] 100% gp.php\n"
     ]
    }
   ],
   "source": [
    "url = 'https://celestrak.com/NORAD/elements/gp.php?CATNR=48274&FORMAT=2le'\n",
    "tiangong = load.tle_file(url, reload=True)\n",
    "ts = load.timescale()\n",
    "    "
   ]
  },
  {
   "cell_type": "code",
   "execution_count": 3,
   "id": "578c071b",
   "metadata": {},
   "outputs": [],
   "source": [
    "def get_lon_lat():\n",
    "    geocentric = tiangong[0].at(ts.now())\n",
    "    lat, lon = wgs84.latlon_of(geocentric)\n",
    "    lat = lat.degrees\n",
    "    lon = lon.degrees\n",
    "    return lat, lon"
   ]
  },
  {
   "cell_type": "code",
   "execution_count": 4,
   "id": "859dba14",
   "metadata": {},
   "outputs": [],
   "source": [
    "lat, lon = get_lon_lat()"
   ]
  },
  {
   "cell_type": "code",
   "execution_count": 5,
   "id": "b803ac56",
   "metadata": {},
   "outputs": [
    {
     "data": {
      "application/vnd.jupyter.widget-view+json": {
       "model_id": "d88b50da27c24bb1a938af91b90c3c9b",
       "version_major": 2,
       "version_minor": 0
      },
      "text/plain": [
       "FigureWidget({\n",
       "    'data': [{'lat': array([-17.38447269]),\n",
       "              'lon': array([-21.16636232]),\n",
       "       …"
      ]
     },
     "metadata": {},
     "output_type": "display_data"
    }
   ],
   "source": [
    "f = go.FigureWidget()\n",
    "f.add_scattergeo(lon=np.array(lon), lat=np.array(lat))"
   ]
  },
  {
   "cell_type": "code",
   "execution_count": 6,
   "id": "08fd51d3",
   "metadata": {},
   "outputs": [],
   "source": [
    "geocentric = tiangong[0].at(ts.now())\n",
    "lat, lon = wgs84.latlon_of(geocentric)\n",
    "lat = lat.degrees\n",
    "lon = lon.degrees\n",
    "f.data[0].lat = np.array(lat)\n",
    "f.data[0].lon = np.array(lon)"
   ]
  },
  {
   "cell_type": "code",
   "execution_count": null,
   "id": "00821abe",
   "metadata": {},
   "outputs": [],
   "source": [
    "while True:\n",
    "    geocentric = tiangong[0].at(ts.now())\n",
    "    lat, lon = wgs84.latlon_of(geocentric)\n",
    "    lat = lat.degrees\n",
    "    lon = lon.degrees\n",
    "    f.data[0].lat = np.array(lat)\n",
    "    f.data[0].lon = np.array(lon)\n",
    "    time.sleep(1)"
   ]
  },
  {
   "cell_type": "code",
   "execution_count": null,
   "id": "051709e1",
   "metadata": {},
   "outputs": [],
   "source": []
  }
 ],
 "metadata": {
  "kernelspec": {
   "display_name": "Python 3 (ipykernel)",
   "language": "python",
   "name": "python3"
  },
  "language_info": {
   "codemirror_mode": {
    "name": "ipython",
    "version": 3
   },
   "file_extension": ".py",
   "mimetype": "text/x-python",
   "name": "python",
   "nbconvert_exporter": "python",
   "pygments_lexer": "ipython3",
   "version": "3.10.4"
  }
 },
 "nbformat": 4,
 "nbformat_minor": 5
}
